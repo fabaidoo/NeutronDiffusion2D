{
 "cells": [
  {
   "cell_type": "markdown",
   "metadata": {},
   "source": [
    "I will be solving the problem shown using the [Nutils](http://www.nutils.org/en/latest/) Finite Element programming library."
   ]
  },
  {
   "cell_type": "markdown",
   "metadata": {},
   "source": [
    "The strong form of the equation is \n",
    "$$ - \\nabla\\cdot\\left( D \\nabla \\phi_0\\right) \\,+\\, \\Sigma_a\\, \\phi_0 = Q_0 $$ where $D = \\frac{1}{3\\Sigma_t}\\,$ and $\\,\\Sigma_a = \\Sigma_t - \\Sigma_s^0$\n",
    "\n",
    "To solve the problem using the Galerkin method, we work with the weak form given by: $$ \\int_{\\Omega} \\nabla N_A \\, D\\,\\nabla \\phi_0 + N_A \\, \\Sigma_a \\phi_0 - N_A\\, Q_0 \\, dx = 0$$ \n"
   ]
  },
  {
   "cell_type": "code",
   "execution_count": 1,
   "metadata": {},
   "outputs": [],
   "source": [
    "from nutils import function, mesh, solver\n",
    "import numpy as np\n",
    "import matplotlib.pyplot as plt\n",
    "from matplotlib import collections\n",
    "from mpl_toolkits.mplot3d import Axes3D"
   ]
  },
  {
   "cell_type": "code",
   "execution_count": null,
   "metadata": {},
   "outputs": [],
   "source": [
    "degree = 2 #degree of basis functions\n",
    "nelems = 10 #number of elements along edge of unit square\n",
    "W = 1 #width of outer box\n",
    "Wi = .1 #width of inner box\n",
    "\n",
    "mat_flag = 'scatterer' #TYPE OF MATERIAL IN OUTER BOX. OTHER POSSIBILITIES: 'reflector' 'absorber' 'air'\n",
    "if mat_flag == 'scatterer':\n",
    "    sigt = 2\n",
    "    sigs = 1.99\n",
    "elif mat_flag == 'reflector':\n",
    "    sigt = 2\n",
    "    sigs = 1.8\n",
    "elif mat_flag == 'absorber':\n",
    "    sigt = 10\n",
    "    sigs = 2\n",
    "elif mat_flag == 'air':\n",
    "    sigt = .01\n",
    "    sigs = .006\n",
    "    \n",
    "\n",
    "topo, geom = mesh.unitsquare(nelems, 'square') #unit square centred at (0.5, 0.5)\n",
    "ns = function.Namespace()\n",
    "ns.basis = topo.basis('lagrange', degree = degree)\n",
    "\n",
    "ns.W = W\n",
    "#ns.Wi = Wi\n",
    "\n",
    "ns.x = W * geom #scales the unit square to actual square\n",
    "ns.f = 'max( abs(x_0 - W / 2), abs( x_1 - W / 2) )'   #level set function for inner square \n",
    "# function.max( function.abs(ns.x[0] -  W/2), function.abs(ns.x[1] - W/2))\n",
    "inner, outer = function.partition(ns.f, Wi / 2)\n",
    "\n",
    "ns.phi = 'basis_A ?dofs_A'\n",
    "ns.SIGs  = sigs * outer              #scattering cross-section\n",
    "ns.SIGt  = 0.1 * inner + sigt* outer              #total cross-section\n",
    "ns.SIGa = 'SIGt - Sigs' #absorption cross-section\n",
    "ns.D = '1 / (3 SIGt)'   #diffusion co-efficient\n",
    "ns.Q =  inner  #source term\n"
   ]
  }
 ],
 "metadata": {
  "kernelspec": {
   "display_name": "Python 3",
   "language": "python",
   "name": "python3"
  },
  "language_info": {
   "codemirror_mode": {
    "name": "ipython",
    "version": 3
   },
   "file_extension": ".py",
   "mimetype": "text/x-python",
   "name": "python",
   "nbconvert_exporter": "python",
   "pygments_lexer": "ipython3",
   "version": "3.8.5"
  }
 },
 "nbformat": 4,
 "nbformat_minor": 4
}
